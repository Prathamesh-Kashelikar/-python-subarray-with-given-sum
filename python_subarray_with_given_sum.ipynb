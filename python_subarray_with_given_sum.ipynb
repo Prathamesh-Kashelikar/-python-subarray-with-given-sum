{
  "cells": [
    {
      "cell_type": "markdown",
      "metadata": {
        "id": "view-in-github",
        "colab_type": "text"
      },
      "source": [
        "<a href=\"https://colab.research.google.com/github/Prathamesh-Kashelikar/-python-subarray-with-given-sum/blob/main/python_subarray_with_given_sum.ipynb\" target=\"_parent\"><img src=\"https://colab.research.google.com/assets/colab-badge.svg\" alt=\"Open In Colab\"/></a>"
      ]
    },
    {
      "cell_type": "code",
      "execution_count": 1,
      "id": "21ca86fd",
      "metadata": {
        "colab": {
          "base_uri": "https://localhost:8080/"
        },
        "id": "21ca86fd",
        "outputId": "30936a8c-c76f-4018-f5e2-74a81a2a3009"
      },
      "outputs": [
        {
          "output_type": "stream",
          "name": "stdout",
          "text": [
            "\u001b[?25l\r\u001b[K     |████▊                           | 10 kB 17.4 MB/s eta 0:00:01\r\u001b[K     |█████████▌                      | 20 kB 20.3 MB/s eta 0:00:01\r\u001b[K     |██████████████▎                 | 30 kB 18.5 MB/s eta 0:00:01\r\u001b[K     |███████████████████             | 40 kB 7.4 MB/s eta 0:00:01\r\u001b[K     |███████████████████████▉        | 51 kB 6.9 MB/s eta 0:00:01\r\u001b[K     |████████████████████████████▋   | 61 kB 8.1 MB/s eta 0:00:01\r\u001b[K     |████████████████████████████████| 68 kB 2.8 MB/s \n",
            "\u001b[?25h  Building wheel for uuid (setup.py) ... \u001b[?25l\u001b[?25hdone\n"
          ]
        }
      ],
      "source": [
        "# Jovian Commit Essentials\n",
        "# Please retain and execute this cell without modifying the contents for `jovian.commit` to work\n",
        "!pip install jovian --upgrade -q\n",
        "import jovian\n",
        "jovian.set_project('python-subarray-with-given-sum')\n",
        "jovian.set_colab_id('1DJ6AIUpnrwL79fo417UAHdDIbU2hEcbs')"
      ]
    },
    {
      "cell_type": "markdown",
      "id": "comfortable-review",
      "metadata": {
        "id": "comfortable-review"
      },
      "source": [
        "# Subarray with Given Sum\n",
        "\n",
        "The following question was asked during a coding interview for Amazon:\n",
        "\n",
        "> You are given an array of numbers (non-negative). Find a continuous subarray of the list which adds up to a given sum. \n",
        "\n",
        "\n",
        "![](https://i.imgur.com/tLEBF7x.png)"
      ]
    },
    {
      "cell_type": "code",
      "source": [
        ""
      ],
      "metadata": {
        "id": "dZefmOItsm6N"
      },
      "id": "dZefmOItsm6N",
      "execution_count": null,
      "outputs": []
    },
    {
      "cell_type": "code",
      "execution_count": 2,
      "id": "patient-adelaide",
      "metadata": {
        "id": "patient-adelaide"
      },
      "outputs": [],
      "source": [
        "# Solve the problem here\n",
        "arr0 = [1,7,4,2,1,3,11,5]\n",
        "target0 = 10\n",
        "output0 = 2,6\n",
        "\n",
        "def subarray_sum(arr,target):\n",
        "  pass\n",
        "\n",
        "# cases we might have to handle\n",
        "'''\n",
        "1. generic array where the subarray at center\n",
        "2. subarray at start\n",
        "3. subarray at end\n",
        "4. no subarray for the output\n",
        "5. few zeros in the list\n",
        "6. multiple subarray with same output\n",
        "7. empty array\n",
        "8. subarray is single element\n",
        "'''\n",
        "\n",
        "# approach 1\n",
        "'''\n",
        "take 2 variables i and j keeping i constant and incrementing j 1 by 1 and taking sum,\n",
        "whenever we will get sum as expected then i and current value of j is the output we \n",
        "are expecting\n",
        "'''\n",
        "\n",
        "\n",
        "def subarray_sum1(arr,target):\n",
        "  n = len(arr)\n",
        "  #i will go from 0 to n\n",
        "  for i in range(0,n):\n",
        "    # j goes from i to n+1\n",
        "    for j in range(i,n+1):\n",
        "      #check if sum is as target\n",
        "      if sum(arr[i:j])==target:\n",
        "        return i,j\n",
        "  return None,None\n"
      ]
    },
    {
      "cell_type": "code",
      "execution_count": 3,
      "id": "sought-norman",
      "metadata": {
        "colab": {
          "base_uri": "https://localhost:8080/"
        },
        "id": "sought-norman",
        "outputId": "913d0267-2646-462c-bf6a-c4901c769448"
      },
      "outputs": [
        {
          "output_type": "execute_result",
          "data": {
            "text/plain": [
              "(2, 6)"
            ]
          },
          "metadata": {},
          "execution_count": 3
        }
      ],
      "source": [
        "# Test the solution here\n",
        "subarray_sum1(arr0,target0)\n"
      ]
    },
    {
      "cell_type": "code",
      "execution_count": null,
      "id": "married-january",
      "metadata": {
        "id": "married-january"
      },
      "outputs": [],
      "source": [
        ""
      ]
    },
    {
      "cell_type": "code",
      "execution_count": null,
      "id": "unavailable-dairy",
      "metadata": {
        "id": "unavailable-dairy"
      },
      "outputs": [],
      "source": [
        ""
      ]
    },
    {
      "cell_type": "code",
      "execution_count": 4,
      "id": "favorite-motorcycle",
      "metadata": {
        "id": "favorite-motorcycle"
      },
      "outputs": [],
      "source": [
        "import jovian"
      ]
    },
    {
      "cell_type": "code",
      "execution_count": 5,
      "id": "amino-relay",
      "metadata": {
        "colab": {
          "base_uri": "https://localhost:8080/",
          "height": 122
        },
        "id": "amino-relay",
        "outputId": "ca9e1b87-6cc6-46a7-c772-cab90e020202"
      },
      "outputs": [
        {
          "output_type": "stream",
          "name": "stdout",
          "text": [
            "[jovian] Detected Colab notebook...\u001b[0m\n",
            "[jovian] Please enter your API key ( from https://jovian.ai/ ):\u001b[0m\n",
            "API KEY: ··········\n",
            "[jovian] Uploading colab notebook to Jovian...\u001b[0m\n",
            "Committed successfully! https://jovian.ai/prathamesh-kashelikar/python-subarray-with-given-sum\n"
          ]
        },
        {
          "output_type": "execute_result",
          "data": {
            "text/plain": [
              "'https://jovian.ai/prathamesh-kashelikar/python-subarray-with-given-sum'"
            ],
            "application/vnd.google.colaboratory.intrinsic+json": {
              "type": "string"
            }
          },
          "metadata": {},
          "execution_count": 5
        }
      ],
      "source": [
        "jovian.commit()"
      ]
    },
    {
      "cell_type": "code",
      "execution_count": null,
      "id": "patient-mounting",
      "metadata": {
        "id": "patient-mounting"
      },
      "outputs": [],
      "source": [
        ""
      ]
    },
    {
      "cell_type": "code",
      "execution_count": null,
      "id": "behavioral-thumb",
      "metadata": {
        "id": "behavioral-thumb"
      },
      "outputs": [],
      "source": [
        ""
      ]
    },
    {
      "cell_type": "code",
      "execution_count": null,
      "id": "norman-revolution",
      "metadata": {
        "id": "norman-revolution"
      },
      "outputs": [],
      "source": [
        ""
      ]
    },
    {
      "cell_type": "markdown",
      "id": "indoor-marshall",
      "metadata": {
        "id": "indoor-marshall"
      },
      "source": [
        "## Solution\n",
        "\n",
        "Test case:"
      ]
    },
    {
      "cell_type": "code",
      "execution_count": null,
      "id": "becoming-brooks",
      "metadata": {
        "id": "becoming-brooks"
      },
      "outputs": [],
      "source": [
        "arr1 = [1, 7, 4, 2, 1, 3, 11, 5]\n",
        "target1 = 10"
      ]
    },
    {
      "cell_type": "markdown",
      "id": "later-organization",
      "metadata": {
        "id": "later-organization"
      },
      "source": [
        "Brute force $O(n^3)$:"
      ]
    },
    {
      "cell_type": "code",
      "execution_count": null,
      "id": "overall-cornwall",
      "metadata": {
        "id": "overall-cornwall"
      },
      "outputs": [],
      "source": [
        "def subarray_sum1(arr, target):\n",
        "    n = len(arr)\n",
        "    for i in range(n):\n",
        "        for j in range(i, n+1):\n",
        "            if sum(arr[i:j]) == target:\n",
        "                return i, j\n",
        "    return None, None"
      ]
    },
    {
      "cell_type": "code",
      "execution_count": null,
      "id": "conceptual-lincoln",
      "metadata": {
        "id": "conceptual-lincoln",
        "outputId": "d644a070-3110-4c31-f468-5a6d700b70c5"
      },
      "outputs": [
        {
          "data": {
            "text/plain": [
              "(2, 6, [4, 2, 1, 3])"
            ]
          },
          "execution_count": 17,
          "metadata": {},
          "output_type": "execute_result"
        }
      ],
      "source": [
        "i, j = subarray_sum1(arr1, target1)\n",
        "i, j, arr1[i:j]"
      ]
    },
    {
      "cell_type": "markdown",
      "id": "hundred-herald",
      "metadata": {
        "id": "hundred-herald"
      },
      "source": [
        "Better brute force $O(n^2)$:"
      ]
    },
    {
      "cell_type": "code",
      "execution_count": null,
      "id": "pursuant-connection",
      "metadata": {
        "id": "pursuant-connection"
      },
      "outputs": [],
      "source": [
        "def subarray_sum2(arr, target):\n",
        "    n = len(arr)\n",
        "    for i in range(n):\n",
        "        s = 0\n",
        "        for j in range(i, n+1):\n",
        "            if s == target:\n",
        "                return i,j\n",
        "            s += arr[j]\n",
        "    return None, None"
      ]
    },
    {
      "cell_type": "code",
      "execution_count": null,
      "id": "oriental-exhibition",
      "metadata": {
        "id": "oriental-exhibition",
        "outputId": "67146cff-3059-4f18-94f5-385b33bdcf87"
      },
      "outputs": [
        {
          "data": {
            "text/plain": [
              "(2, 6, [4, 2, 1, 3])"
            ]
          },
          "execution_count": 19,
          "metadata": {},
          "output_type": "execute_result"
        }
      ],
      "source": [
        "i, j = subarray_sum2(arr1, target1)\n",
        "i, j, arr1[i:j]"
      ]
    },
    {
      "cell_type": "markdown",
      "id": "prime-photograph",
      "metadata": {
        "id": "prime-photograph"
      },
      "source": [
        "Greedy algorithm $O(n)$:"
      ]
    },
    {
      "cell_type": "code",
      "execution_count": null,
      "id": "round-least",
      "metadata": {
        "id": "round-least"
      },
      "outputs": [],
      "source": [
        "def subarray_sum3(arr, target):\n",
        "    n = len(arr)\n",
        "    i, j, s = 0, 0, 0\n",
        "    while i < n and j <= n:\n",
        "        if s == target:\n",
        "            return i, j\n",
        "        elif s < target:\n",
        "            s += arr[j]\n",
        "            j += 1\n",
        "        elif s > target:\n",
        "            s -= arr[i]\n",
        "            i += 1\n",
        "    return None, None\n",
        "        "
      ]
    },
    {
      "cell_type": "code",
      "execution_count": null,
      "id": "wrong-walnut",
      "metadata": {
        "id": "wrong-walnut",
        "outputId": "f57e0b39-89fd-4c69-b91b-cd498ed84fc9"
      },
      "outputs": [
        {
          "data": {
            "text/plain": [
              "(2, 6, [4, 2, 1, 3])"
            ]
          },
          "execution_count": 25,
          "metadata": {},
          "output_type": "execute_result"
        }
      ],
      "source": [
        "i, j = subarray_sum3(arr1, target1)\n",
        "i, j, arr1[i:j]"
      ]
    },
    {
      "cell_type": "code",
      "execution_count": null,
      "id": "administrative-blind",
      "metadata": {
        "id": "administrative-blind"
      },
      "outputs": [],
      "source": [
        ""
      ]
    }
  ],
  "metadata": {
    "kernelspec": {
      "display_name": "Python 3",
      "language": "python",
      "name": "python3"
    },
    "language_info": {
      "codemirror_mode": {
        "name": "ipython",
        "version": 3
      },
      "file_extension": ".py",
      "mimetype": "text/x-python",
      "name": "python",
      "nbconvert_exporter": "python",
      "pygments_lexer": "ipython3",
      "version": "3.6.12"
    },
    "colab": {
      "name": "python-subarray-with-given-sum.ipynb",
      "provenance": [],
      "include_colab_link": true
    }
  },
  "nbformat": 4,
  "nbformat_minor": 5
}